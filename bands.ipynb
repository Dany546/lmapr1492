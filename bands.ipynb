{
 "cells": [
  {
   "cell_type": "code",
   "execution_count": null,
   "metadata": {},
   "outputs": [],
   "source": [
    "from pymatgen import MPRester\n",
    "\n",
    "with MPRester(\"API_KEY\") as mp: \n",
    "    bdst = mp.get_bandstructure_by_material_id(\"mp-23040\")  \n",
    "    struct = mp.query(\"mp-23040\", [\"structure\",\"nelect\"])[0][\"structure\"]  "
   ]
  },
  {
   "cell_type": "code",
   "execution_count": null,
   "metadata": {},
   "outputs": [],
   "source": [
    "bdst.get_band_gap()  # affiche les données du band gap"
   ]
  },
  {
   "cell_type": "code",
   "execution_count": null,
   "metadata": {},
   "outputs": [],
   "source": [
    "import pymatgen.electronic_structure.plotter as plotter\n",
    "                     \n",
    "# plot la structure de bandes en affichant le min (max) de la 1ère (dernière) bande de conduction (valence)    \n",
    "    \n",
    "blt = plotter.BSPlotter(bdst)  \n",
    "blt.get_plot(vbm_cbm_marker=True).show()  "
   ]
  },
  {
   "cell_type": "code",
   "execution_count": null,
   "metadata": {},
   "outputs": [],
   "source": [
    "%matplotlib notebook     \n",
    "from pymatgen.symmetry.analyzer import SpacegroupAnalyzer    \n",
    "import pymatgen.symmetry.bandstructure as b\n",
    "from pymatgen.core.lattice import Lattice \n",
    "import matplotlib.pyplot as plt\n",
    "import numpy as np                                                          \n",
    "\n",
    "# plot la zone de brillouin et des lignes qui vont de son centre jusqu'au \n",
    "# min (max) de la 1ère (dernière) bande de conduction (valence) \n",
    "\n",
    "sp = SpacegroupAnalyzer(struct)                       \n",
    "new_structure = sp.get_primitive_standard_structure()    \n",
    "\n",
    "lattice = Lattice(bdst.kpoints[0].as_dict()['lattice']['matrix'])   \n",
    "\n",
    "cbm = np.array(bdst.get_cbm()['kpoint'].as_dict()['fcoords'])    # coordonnées du minimum de la bande de conduction\n",
    "vbm = np.array(bdst.get_vbm()['kpoint'].as_dict()['fcoords'])    # coordonnées du maximum de la bande de valence\n",
    " \n",
    "label = {}\n",
    "label['vbm'] = vbm     \n",
    "label['cbm'] = cbm     \n",
    "\n",
    "fig = plotter.plot_brillouin_zone(lattice,lines=[line],labels=label) \n",
    "fig.show() "
   ]
  },
  {
   "cell_type": "code",
   "execution_count": null,
   "metadata": {},
   "outputs": [],
   "source": [
    "# permet de voir que les bandes de valence et de conduction sont\n",
    "# les bandes numéros 15 et 16 \n",
    "bdst.get_cbm(),bdst.get_vbm()    # affiche les données du cbm et du vbm"
   ]
  },
  {
   "cell_type": "code",
   "execution_count": null,
   "metadata": {},
   "outputs": [],
   "source": [
    "import matplotlib.pyplot as plot\n",
    " \n",
    "# approximme les bandes par une parabole (entre les lignes pointillées)     \n",
    "    \n",
    "dic = blt.bs_plot_data()\n",
    "distances = dic['distances']\n",
    "energy = dic['energy']\n",
    "vbm = dic['vbm']\n",
    "cbm = dic['cbm']\n",
    "\n",
    "x_data = [0.0]                            \n",
    "for branch in distances:                   # rassemble les kpoints de toutes les branches en une seule\n",
    "    x_data = np.append(x_data,branch[1:])  # liste en ne mettant qu'une fois les points doubles\n",
    "    \n",
    "y_data = energy[0]['1']       \n",
    "for branch in energy[1:]:                      # rassemble les énergies de toutes les branches en une seule liste\n",
    "    for j,band in enumerate(branch['1']):      # par bandes en ne mettant qu'une fois les points doubles\n",
    "        y_data[j] = np.append(y_data[j],band[1:])  \n",
    "        \n",
    "# plot les données        \n",
    "        \n",
    "fig = plot.figure(figsize=(10,5))        \n",
    "        \n",
    "plot.plot(x_data,y_data[15],'r') \n",
    "plot.plot(x_data,y_data[16],'r') \n",
    "    \n",
    "plot.plot(cbm[0][0],cbm[0][1],'ro')\n",
    "plot.plot(vbm[1][0],vbm[1][1],'go')\n",
    "         \n",
    "index_1,index_2 = np.argmax(y_data[15][1:])+1,np.argmin(y_data[16])\n",
    "\n",
    "plot.vlines(x_data[index_1-7],-1,3,color='grey',linestyle='dashed')\n",
    "plot.vlines(x_data[index_1+12],-1,3,color='grey',linestyle='dashed') \n",
    "plot.vlines(x_data[index_2-6],-1,3,color='grey',linestyle='dashed')\n",
    "plot.vlines(x_data[index_2+3],-1,3,color='grey',linestyle='dashed')\n",
    "\n",
    "# approxime par une parabole\n",
    "\n",
    "p_1 = np.poly1d(np.polyfit(x_data[index_1-7:index_1+13],y_data[15][index_1-7:index_1+13],2)) \n",
    "p_2 = np.poly1d(np.polyfit(x_data[index_2-6:index_2+4],y_data[16][index_2-6:index_2+4],2))\n",
    "  \n",
    "aprox_y_1 = [p_1(x) for x in x_data[index_1-7:index_1+13]]  \n",
    "aprox_y_2 = [p_2(x) for x in x_data[index_2-6:index_2+4]]   \n",
    "\n",
    "plot.plot(x_data[index_1-7:index_1+13],aprox_y_1,color='black')\n",
    "plot.plot(x_data[index_2-6:index_2+4],aprox_y_2,color='black')\n",
    "    \n",
    "plot.show()  "
   ]
  },
  {
   "cell_type": "code",
   "execution_count": null,
   "metadata": {},
   "outputs": [],
   "source": [
    "import scipy.constants as s\n",
    "\n",
    "# calcule la masse effective en multiple de la masse d'un électron\n",
    "\n",
    "a = new_structure.lattice.reciprocal_lattice.a*10**(-10)  # dimension du réseau pour passer en mètres\n",
    "\n",
    "eff_mass_val = (s.hbar**2)/(2*p_1[2]*s.e*a*a*s.m_e)      # p_i[n] renvoie le coefficient de degré n du polynome i \n",
    "eff_mass_cond = (s.hbar**2)/(2*p_2[2]*s.e*a*a*s.m_e)     # s.e pour passer d'électrons-volts aux joules\n",
    "\n",
    "print(eff_mass_val,'*m_e')\n",
    "print(eff_mass_cond,'*m_e')"
   ]
  }
 ],
 "metadata": {
  "kernelspec": {
   "display_name": "Python 3",
   "language": "python",
   "name": "python3"
  },
  "language_info": {
   "codemirror_mode": {
    "name": "ipython",
    "version": 3
   },
   "file_extension": ".py",
   "mimetype": "text/x-python",
   "name": "python",
   "nbconvert_exporter": "python",
   "pygments_lexer": "ipython3",
   "version": "3.6.8"
  }
 },
 "nbformat": 4,
 "nbformat_minor": 2
}
