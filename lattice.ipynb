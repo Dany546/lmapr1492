{
 "cells": [
  {
   "cell_type": "code",
   "execution_count": 18,
   "metadata": {},
   "outputs": [],
   "source": [
    "from pymatgen import MPRester                       #\n",
    "                                                    #\n",
    "with MPRester(\"MY_API_KEY\") as mpr:                 # note: remplacer MY_API_KEY par une clef API\n",
    "                                                    #\n",
    "    data = mpr.query(\"mp-23040\", [\"cif\"])[0]        # stocke le fichier cif sous la forme d'un dictionnaire  \n",
    "    flux = open(\"Ca2PI_mp-23040.cif\", \"w\")          #\n",
    "                                                    # \n",
    "    for key, value in data.items():                 # écris un fichier cif contenant les données\n",
    "        flux.write(str(value))                      # du fichier cif stocké dans data\n",
    "                                                    # \n",
    "    flux.close()                                    #"
   ]
  },
  {
   "cell_type": "code",
   "execution_count": 1,
   "metadata": {},
   "outputs": [],
   "source": [
    "from pymatgen.io.cif import CifParser                     #\n",
    "                                                          #\n",
    "parser = CifParser(\"Ca2PI_mp-23040.cif\")                  # lis le fichier cif et stocke la  \n",
    "                                                          # structure conventionnelle dans structure\n",
    "structure = parser.get_structures()[0]               # "
   ]
  },
  {
   "cell_type": "code",
   "execution_count": 2,
   "metadata": {},
   "outputs": [],
   "source": [
    "from pymatgen.symmetry.analyzer import SpacegroupAnalyzer    #\n",
    "                                                             #\n",
    "old_sp = SpacegroupAnalyzer(structure)                       # crée les objets sp et new_structure\n",
    "new_structure = old_sp.get_primitive_standard_structure()    # nécéssaires pour la suite\n",
    "sp = SpacegroupAnalyzer(new_structure)                       #\n",
    "                                                             #\n",
    "base_direct = new_structure.lattice.matrix                   # stocke les vecteurs des bases directe et réciproque sous  \n",
    "base_rec = new_structure.lattice.reciprocal_lattice.matrix   # la forme d'une matrice (chaque ligne correspond à un vecteur)\n",
    "                                                             # \n",
    "a,b,c,a_star,b_star,c_star = [*base_direct,*base_rec][:]     # extrait les vecteurs des bases \n",
    "                                                             #\n",
    "maille = sp.get_lattice_type()                               # retourne le type de maille \n",
    "syst = sp.get_crystal_system()                               # retourne le système cristallin \n",
    "gp = sp.get_point_group_symbol()                             # retourne le groupe ponctuel "
   ]
  },
  {
   "cell_type": "code",
   "execution_count": 3,
   "metadata": {},
   "outputs": [
    {
     "data": {
      "text/plain": [
       "array([[ 1.00000000e+00,  0.00000000e+00,  0.00000000e+00],\n",
       "       [ 0.00000000e+00,  1.00000000e+00,  0.00000000e+00],\n",
       "       [-7.06789929e-17, -7.06789929e-17,  1.00000000e+00]])"
      ]
     },
     "execution_count": 3,
     "metadata": {},
     "output_type": "execute_result"
    }
   ],
   "source": [
    "import numpy as np                               # vérifie que les relations entre les vecteurs des bases directe  \n",
    "np.dot(base_direct,base_rec.T)/(2*np.pi)         # et réciproque soient bien respectées (a.a*=2pi, a.b*=0,...)"
   ]
  },
  {
   "cell_type": "code",
   "execution_count": 4,
   "metadata": {
    "scrolled": true
   },
   "outputs": [
    {
     "data": {
      "text/plain": [
       "('a: [ 7.59060296 -2.15520541  0.        ]',\n",
       " 'b: [7.59060296 2.15520541 0.        ]',\n",
       " 'c: [6.97867392 0.         3.68242772]',\n",
       " 'a*: [ 0.4138792  -1.45767668 -0.78435428]',\n",
       " 'b*: [ 0.4138792   1.45767668 -0.78435428]',\n",
       " 'c*: [0.         0.         1.70626168]',\n",
       " 'maille élémentaire: rhombohedral',\n",
       " 'système cristallin: trigonal',\n",
       " 'groupe ponctuel: -3m')"
      ]
     },
     "execution_count": 4,
     "metadata": {},
     "output_type": "execute_result"
    }
   ],
   "source": [
    "# les lignes suivantes servent à afficher les réponses :)  \n",
    "tuples = [(\"a\",a),(\"b\",b),(\"c\",c),(\"a*\",a_star),(\"b*\",b_star),(\"c*\",c_star),(\"maille élémentaire\",maille),(\"système cristallin\",syst),(\"groupe ponctuel\",gp)] \n",
    "A,B,C,A_star,B_star,C_star,Maille,Syst,Gp = [\"{name}: {value}\".format(name=name,value=value) for name,value in tuples] \n",
    "A,B,C,A_star,B_star,C_star,Maille,Syst,Gp"
   ]
  },
  {
   "cell_type": "code",
   "execution_count": null,
   "metadata": {},
   "outputs": [],
   "source": []
  }
 ],
 "metadata": {
  "kernelspec": {
   "display_name": "Python 3",
   "language": "python",
   "name": "python3"
  },
  "language_info": {
   "codemirror_mode": {
    "name": "ipython",
    "version": 3
   },
   "file_extension": ".py",
   "mimetype": "text/x-python",
   "name": "python",
   "nbconvert_exporter": "python",
   "pygments_lexer": "ipython3",
   "version": "3.6.8"
  }
 },
 "nbformat": 4,
 "nbformat_minor": 2
}
