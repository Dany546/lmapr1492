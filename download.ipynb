{
 "cells": [
  {
   "cell_type": "code",
   "execution_count": 48,
   "metadata": {},
   "outputs": [],
   "source": [
    "from pymatgen import MPRester                   #\n",
    "                                                #\n",
    "mpr = MPRester(\"MY_API_KEY\")                    # note: remplacer MY_API_KEY par une clef API\n",
    "                                                #\n",
    "data = mpr.query(\"mp-23040\", [\"cif\"])[0]        # stocke le fichier cif sous la forme d'un dictionnaire\n",
    "flux = open(\"Ca2PI_mp-23040.cif\", \"w\")          #\n",
    "                                                # \n",
    "for key, value in data.items():                 # écris un fichier cif contenant les données\n",
    "    flux.write(str(value))                      # du fichier cif stocké dans data\n",
    "                                                # \n",
    "flux.close()                                    #"
   ]
  },
  {
   "cell_type": "code",
   "execution_count": null,
   "metadata": {},
   "outputs": [],
   "source": []
  }
 ],
 "metadata": {
  "kernelspec": {
   "display_name": "Python 3",
   "language": "python",
   "name": "python3"
  },
  "language_info": {
   "codemirror_mode": {
    "name": "ipython",
    "version": 3
   },
   "file_extension": ".py",
   "mimetype": "text/x-python",
   "name": "python",
   "nbconvert_exporter": "python",
   "pygments_lexer": "ipython3",
   "version": "3.6.8"
  }
 },
 "nbformat": 4,
 "nbformat_minor": 2
}
