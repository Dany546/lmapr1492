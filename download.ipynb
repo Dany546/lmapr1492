{
 "cells": [
  {
   "cell_type": "code",
   "execution_count": 47,
   "metadata": {},
   "outputs": [
    {
     "name": "stdout",
     "output_type": "stream",
     "text": [
      "<_io.TextIOWrapper name='Ca2PI_mp-23040.cif' mode='w' encoding='UTF-8'>\n"
     ]
    }
   ],
   "source": [
    "from pymatgen import MPRester\n",
    "\n",
    "\n",
    "mpr = MPRester(\"qCZVQk878CsirPAezSTx\") \n",
    "\n",
    "data = mpr.query(\"mp-23040\", [\"cif\"])[0]\n",
    "\n",
    "data2 = open(\"Ca2PI_mp-23040.cif\", \"w\")\n",
    "\n",
    "\n",
    "for key, value in data.items():\n",
    "    \n",
    "    data2.write(str(value))\n",
    "    \n",
    "    \n",
    "data2.close()    "
   ]
  },
  {
   "cell_type": "code",
   "execution_count": null,
   "metadata": {},
   "outputs": [],
   "source": []
  }
 ],
 "metadata": {
  "kernelspec": {
   "display_name": "Python 3",
   "language": "python",
   "name": "python3"
  },
  "language_info": {
   "codemirror_mode": {
    "name": "ipython",
    "version": 3
   },
   "file_extension": ".py",
   "mimetype": "text/x-python",
   "name": "python",
   "nbconvert_exporter": "python",
   "pygments_lexer": "ipython3",
   "version": "3.6.8"
  }
 },
 "nbformat": 4,
 "nbformat_minor": 2
}
